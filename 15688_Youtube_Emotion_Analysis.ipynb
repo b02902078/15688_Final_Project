{
 "cells": [
  {
   "cell_type": "markdown",
   "metadata": {
    "colab_type": "text",
    "id": "q6_uH8Ypw1Hz"
   },
   "source": [
    "# Introduction\n",
    "\n",
    "The growth of internet over the last decade has brought along a revolution in the streaming industry. Number of websites which stream and broadcast video content has grown exponentially. YouTube was the leader of this new age and has over a billion videos now. Some videos make people laugh, some arouse anger, while some trigger the sadness deep down in our hearts. For the final project, we are interested in understanding the emotions and feelings behind each video. We would like to collect our own data and apply both supervised and unsupervised learning to label the videos. Then we would train a classifier to further predict the emotion of unseen videos\n"
   ]
  },
  {
   "cell_type": "markdown",
   "metadata": {
    "colab_type": "text",
    "id": "bepK-4fdyh3M"
   },
   "source": [
    "# Project Content\n",
    "We will cover the following topics in this notebook:\n",
    "* Installing the libraries\n",
    "* Data Scraping using Youtube Data API\n",
    "* Exploratory Data Analysis\n",
    "* Getting Features\n",
    "* Supervised - Getting Sentimental Labels from indico\n",
    "* Unsupervised - Getting Labels by Emotion Dictionary\n",
    "* Data Visualization\n",
    "* Training and Prediction\n",
    "* Recommendation System\n",
    "* Conclusion & Reference\n"
   ]
  },
  {
   "cell_type": "markdown",
   "metadata": {
    "colab_type": "text",
    "id": "3x54gBZB1BLz"
   },
   "source": [
    "#Installing the libraries\n",
    "Let's get started by installing the libraries we would use later. Our data comes from Youtube so we need to access the Youtube Data API.\n",
    "> pip install --upgrade google-api-python-client\n",
    "\n",
    "We will also be using [indico](https://indico.io/product/sentiment-analysis), a sentiment analysis library to label the emotions\n",
    "> pip install indicoio\n",
    "\n",
    "For visualization, we will use plotly to provide some insight into our data and classification results.\n",
    "> pip install plotly "
   ]
  },
  {
   "cell_type": "code",
   "execution_count": 4,
   "metadata": {
    "colab": {
     "autoexec": {
      "startup": false,
      "wait_interval": 0
     }
    },
    "colab_type": "code",
    "id": "mBxeV2R90_6L"
   },
   "outputs": [],
   "source": [
    "import pandas as pd\n",
    "import time\n",
    "import numpy as np\n",
    "\n",
    "import plotly.plotly as py\n",
    "import plotly.graph_objs as go\n",
    "\n",
    "import indicoio\n",
    "\n",
    "from apiclient.discovery import build\n",
    "from apiclient.errors import HttpError\n",
    "from oauth2client.tools import argparser\n",
    "\n",
    "import nltk\n",
    "from nltk.stem import WordNetLemmatizer\n",
    "from nltk.tokenize import RegexpTokenizer\n",
    "from nltk.corpus import stopwords\n",
    "\n",
    "from sklearn.feature_extraction.text import TfidfVectorizer\n",
    "from sklearn import linear_model\n",
    "from scipy import sparse\n",
    "\n",
    "from difflib import SequenceMatcher\n",
    "from IPython.display import YouTubeVideo"
   ]
  },
  {
   "cell_type": "markdown",
   "metadata": {
    "colab_type": "text",
    "id": "1B5HfEQE0Vs4"
   },
   "source": [
    "# Data Scraping using Youtube Data API\n",
    "We will be scraping textual information about Youtube videos instead of the videos itself. We believe that the title, description, tags, and comments would provide insight to what kinds of emotion a video makes people feel. Before accessing the Youtube Data API, first we need to enable the API and retrieve a credential key from the [Google Developers Console](https://console.developers.google.com/) .\n",
    "\n",
    "Using this API, you are able to perform upload operations or retrieve all kinds of information related to a video. We will particularly be using the search command to perform a broad search based on video categories, and the video search command to get metatdata of a specific video. You need to pass the developer key whenever you access the API. More details of the usage can be found in the [documentation](https://developers.google.com/youtube/v3/getting-started)\n",
    "\n",
    "Below is a simple example of how to use the search.list method:\n"
   ]
  },
  {
   "cell_type": "code",
   "execution_count": 5,
   "metadata": {
    "colab": {
     "autoexec": {
      "startup": false,
      "wait_interval": 0
     },
     "base_uri": "https://localhost:8080/",
     "height": 102
    },
    "colab_type": "code",
    "executionInfo": {
     "elapsed": 714,
     "status": "ok",
     "timestamp": 1526077460720,
     "user": {
      "displayName": "Sukrit Ajmani",
      "photoUrl": "https://lh3.googleusercontent.com/a/default-user=s128",
      "userId": "108504263953929089566"
     },
     "user_tz": 240
    },
    "id": "OLvdG2kQ0u3D",
    "outputId": "abd6db26-1a72-44c9-f307-784c1195d9e8"
   },
   "outputs": [
    {
     "name": "stdout",
     "output_type": "stream",
     "text": [
      "ID: BAjzek9Ltg8, TITLE: If Donald Trump is Nominated for a Nobel Peace Prize\n",
      "ID: 5N2TFZ-_Jkk, TITLE: Trump, Pence rally in Indiana\n",
      "ID: MEC6Ai1Zfwc, TITLE: Wall Street thinks Trump’s speech was a placebo: Charles Payne\n",
      "ID: 1rdm-bWNWYE, TITLE: President Donald Trump Pleases Insurers, Angers Critics With Drug-Pricing Plan | NBC Nightly News\n",
      "ID: U4PXqdit6Ks, TITLE: Did an FBI spy infiltrate the Trump 2016 campaign?\n"
     ]
    }
   ],
   "source": [
    "'''\n",
    "  Simple Example of Using youtube.search().list\n",
    "'''\n",
    "DEVELOPER_KEY = \"USE_YOUR_OWN_KEY\"\n",
    "YOUTUBE_API_SERVICE_NAME = \"youtube\"\n",
    "YOUTUBE_API_VERSION = \"v3\"\n",
    "\n",
    "def youtube_sample_search(query):\n",
    "\n",
    "    youtube = build(YOUTUBE_API_SERVICE_NAME, YOUTUBE_API_VERSION,developerKey=DEVELOPER_KEY)\n",
    "\n",
    "    search_response = youtube.search().list(\n",
    "      q=query,\n",
    "      type=\"video\",\n",
    "      part=\"id,snippet\", # Part signifies the different types of data you want \n",
    "      ).execute()\n",
    "    \n",
    "    for search_result in search_response.get(\"items\", []):\n",
    "      print(\"ID: \" + search_result['id']['videoId'] + \", TITLE: \" + search_result['snippet']['title'])\n",
    "\n",
    "youtube_sample_search('trump')"
   ]
  },
  {
   "cell_type": "markdown",
   "metadata": {
    "colab_type": "text",
    "id": "O7I3pwwG2kN4"
   },
   "source": [
    "Now we start scraping our own data. Because we want a diversed topic of videos, we search through all youtube categories to retrieve the top 500 videos each. Some categories include \"Film & Animation\", \"Autos & Vehicles\", \"Music\", \"Pets & Animals\", \"Sports\",...etc. Note that Youtube search returns result with a probability so it is limited to returning 500 results for each search. For each search results, we make another API call to get the textual information. We store all data in a .csv file."
   ]
  },
  {
   "cell_type": "code",
   "execution_count": 7,
   "metadata": {
    "colab": {
     "autoexec": {
      "startup": false,
      "wait_interval": 0
     }
    },
    "colab_type": "code",
    "id": "6fplCv2N2upQ"
   },
   "outputs": [
    {
     "name": "stdout",
     "output_type": "stream",
     "text": [
      "Done\n"
     ]
    },
    {
     "data": {
      "text/html": [
       "<div>\n",
       "<style>\n",
       "    .dataframe thead tr:only-child th {\n",
       "        text-align: right;\n",
       "    }\n",
       "\n",
       "    .dataframe thead th {\n",
       "        text-align: left;\n",
       "    }\n",
       "\n",
       "    .dataframe tbody tr th {\n",
       "        vertical-align: top;\n",
       "    }\n",
       "</style>\n",
       "<table border=\"1\" class=\"dataframe\">\n",
       "  <thead>\n",
       "    <tr style=\"text-align: right;\">\n",
       "      <th></th>\n",
       "      <th>videoId</th>\n",
       "      <th>title</th>\n",
       "      <th>description</th>\n",
       "      <th>channelId</th>\n",
       "      <th>channelTitle</th>\n",
       "      <th>categoryId</th>\n",
       "      <th>favoriteCount</th>\n",
       "      <th>viewCount</th>\n",
       "      <th>likeCount</th>\n",
       "      <th>dislikeCount</th>\n",
       "      <th>commentCount</th>\n",
       "      <th>tags</th>\n",
       "      <th>author</th>\n",
       "      <th>comments</th>\n",
       "    </tr>\n",
       "  </thead>\n",
       "  <tbody>\n",
       "    <tr>\n",
       "      <th>0</th>\n",
       "      <td>rBD7XVvJ02s</td>\n",
       "      <td>POKEMON IN REAL LIFE 3!</td>\n",
       "      <td>MORE POKEMON VIDEOS:  https://youtu.be/4BO2HgT...</td>\n",
       "      <td>UCY30JRSgfhYXA6i6xX1erWg</td>\n",
       "      <td>Smosh</td>\n",
       "      <td>43</td>\n",
       "      <td>0</td>\n",
       "      <td>30167513</td>\n",
       "      <td>203626</td>\n",
       "      <td>4748</td>\n",
       "      <td>30710</td>\n",
       "      <td>smosh,pokemon go,anthony,padilla,ian,hecox,pok...</td>\n",
       "      <td>Silvia Valbuena:MC TEEN:yip mam:lucutes /// Su...</td>\n",
       "      <td>Me  gusta  mucho  el video  es muy  gracioso:I...</td>\n",
       "    </tr>\n",
       "    <tr>\n",
       "      <th>1</th>\n",
       "      <td>LfoGBVM86PM</td>\n",
       "      <td>POKEMON IN REAL LIFE 2!</td>\n",
       "      <td>MORE POKEMON VIDEOS:  https://youtu.be/4BO2HgT...</td>\n",
       "      <td>UCY30JRSgfhYXA6i6xX1erWg</td>\n",
       "      <td>Smosh</td>\n",
       "      <td>43</td>\n",
       "      <td>0</td>\n",
       "      <td>39292642</td>\n",
       "      <td>274101</td>\n",
       "      <td>5714</td>\n",
       "      <td>48091</td>\n",
       "      <td>smosh,pokemon go,anthony,padilla,ian,hecox,pok...</td>\n",
       "      <td>inkling 18:Matte Cartoon296:FireMario64:Arran ...</td>\n",
       "      <td>Monky pokedex manky ash monky pokedex manke lo...</td>\n",
       "    </tr>\n",
       "    <tr>\n",
       "      <th>2</th>\n",
       "      <td>dkHJKakHMpo</td>\n",
       "      <td>Annoying Orange - Wasssabi</td>\n",
       "      <td>🚨 NEW MERCH! http://amzn.to/annoyingorange 🚨 ➤...</td>\n",
       "      <td>UCi-5OZ2tYuwMLIcEyOsbdRA</td>\n",
       "      <td>Annoying Orange</td>\n",
       "      <td>43</td>\n",
       "      <td>0</td>\n",
       "      <td>38552990</td>\n",
       "      <td>132042</td>\n",
       "      <td>3757</td>\n",
       "      <td>23493</td>\n",
       "      <td>annoying,orange,wazzup,sequel,wassup,wasabi,wa...</td>\n",
       "      <td>Fra 3c1sxX:virat Wisetsingh:Domc le chan:J&amp;A y...</td>\n",
       "      <td>I LOVE SUSHI YUMMY:0:58 wasabi get squished by...</td>\n",
       "    </tr>\n",
       "    <tr>\n",
       "      <th>3</th>\n",
       "      <td>w0ffwDYo00Q</td>\n",
       "      <td>Cat Man Do - Simon's Cat | SHORTS</td>\n",
       "      <td>A hungry cat resorts to increasingly desperate...</td>\n",
       "      <td>UCH6vXjt-BA7QHl0KnfL-7RQ</td>\n",
       "      <td>Simon's Cat</td>\n",
       "      <td>43</td>\n",
       "      <td>0</td>\n",
       "      <td>60350864</td>\n",
       "      <td>259509</td>\n",
       "      <td>5405</td>\n",
       "      <td>16110</td>\n",
       "      <td>pet,cat,humor,funny,comedy,animation,cartoon,s...</td>\n",
       "      <td>kala kana:TheMinimancjb34:Mridula Biswas:Sacre...</td>\n",
       "      <td>ten years.... :O:Simon it would be cool if you...</td>\n",
       "    </tr>\n",
       "    <tr>\n",
       "      <th>4</th>\n",
       "      <td>M06sWmoEk_A</td>\n",
       "      <td>TEENS IN THE WILD!</td>\n",
       "      <td>WATCH BLOOPERS &amp; BONUS SCENES: http://bit.ly/t...</td>\n",
       "      <td>UCY30JRSgfhYXA6i6xX1erWg</td>\n",
       "      <td>Smosh</td>\n",
       "      <td>43</td>\n",
       "      <td>0</td>\n",
       "      <td>17514091</td>\n",
       "      <td>133238</td>\n",
       "      <td>3640</td>\n",
       "      <td>18376</td>\n",
       "      <td>teen,teenager,teenagers,wildlife,hunting,docum...</td>\n",
       "      <td>Adithya Tatineni:Michael Odoherty:gray becker:...</td>\n",
       "      <td>Anthony’s channel is the worst it is so boring...</td>\n",
       "    </tr>\n",
       "  </tbody>\n",
       "</table>\n",
       "</div>"
      ],
      "text/plain": [
       "       videoId                              title  \\\n",
       "0  rBD7XVvJ02s            POKEMON IN REAL LIFE 3!   \n",
       "1  LfoGBVM86PM            POKEMON IN REAL LIFE 2!   \n",
       "2  dkHJKakHMpo         Annoying Orange - Wasssabi   \n",
       "3  w0ffwDYo00Q  Cat Man Do - Simon's Cat | SHORTS   \n",
       "4  M06sWmoEk_A                 TEENS IN THE WILD!   \n",
       "\n",
       "                                         description  \\\n",
       "0  MORE POKEMON VIDEOS:  https://youtu.be/4BO2HgT...   \n",
       "1  MORE POKEMON VIDEOS:  https://youtu.be/4BO2HgT...   \n",
       "2  🚨 NEW MERCH! http://amzn.to/annoyingorange 🚨 ➤...   \n",
       "3  A hungry cat resorts to increasingly desperate...   \n",
       "4  WATCH BLOOPERS & BONUS SCENES: http://bit.ly/t...   \n",
       "\n",
       "                  channelId     channelTitle categoryId favoriteCount  \\\n",
       "0  UCY30JRSgfhYXA6i6xX1erWg            Smosh         43             0   \n",
       "1  UCY30JRSgfhYXA6i6xX1erWg            Smosh         43             0   \n",
       "2  UCi-5OZ2tYuwMLIcEyOsbdRA  Annoying Orange         43             0   \n",
       "3  UCH6vXjt-BA7QHl0KnfL-7RQ      Simon's Cat         43             0   \n",
       "4  UCY30JRSgfhYXA6i6xX1erWg            Smosh         43             0   \n",
       "\n",
       "  viewCount likeCount dislikeCount commentCount  \\\n",
       "0  30167513    203626         4748        30710   \n",
       "1  39292642    274101         5714        48091   \n",
       "2  38552990    132042         3757        23493   \n",
       "3  60350864    259509         5405        16110   \n",
       "4  17514091    133238         3640        18376   \n",
       "\n",
       "                                                tags  \\\n",
       "0  smosh,pokemon go,anthony,padilla,ian,hecox,pok...   \n",
       "1  smosh,pokemon go,anthony,padilla,ian,hecox,pok...   \n",
       "2  annoying,orange,wazzup,sequel,wassup,wasabi,wa...   \n",
       "3  pet,cat,humor,funny,comedy,animation,cartoon,s...   \n",
       "4  teen,teenager,teenagers,wildlife,hunting,docum...   \n",
       "\n",
       "                                              author  \\\n",
       "0  Silvia Valbuena:MC TEEN:yip mam:lucutes /// Su...   \n",
       "1  inkling 18:Matte Cartoon296:FireMario64:Arran ...   \n",
       "2  Fra 3c1sxX:virat Wisetsingh:Domc le chan:J&A y...   \n",
       "3  kala kana:TheMinimancjb34:Mridula Biswas:Sacre...   \n",
       "4  Adithya Tatineni:Michael Odoherty:gray becker:...   \n",
       "\n",
       "                                            comments  \n",
       "0  Me  gusta  mucho  el video  es muy  gracioso:I...  \n",
       "1  Monky pokedex manky ash monky pokedex manke lo...  \n",
       "2  I LOVE SUSHI YUMMY:0:58 wasabi get squished by...  \n",
       "3  ten years.... :O:Simon it would be cool if you...  \n",
       "4  Anthony’s channel is the worst it is so boring...  "
      ]
     },
     "execution_count": 7,
     "metadata": {},
     "output_type": "execute_result"
    }
   ],
   "source": [
    "'''\n",
    "  Search for each youtube category and scrape data\n",
    "'''\n",
    "def youtube_search(id, token, max_results=50, order=\"relevance\", location=None, location_radius=None):\n",
    "\n",
    "    youtube = build(YOUTUBE_API_SERVICE_NAME, YOUTUBE_API_VERSION,developerKey=DEVELOPER_KEY)\n",
    "\n",
    "    search_response = youtube.search().list(\n",
    "      type=\"video\",\n",
    "      pageToken=token,\n",
    "      order = order,\n",
    "      part=\"id,snippet\", # Part signifies the different types of data you want \n",
    "      maxResults=max_results,\n",
    "      location=location,\n",
    "      videoCategoryId =id ,\n",
    "      locationRadius=location_radius).execute()\n",
    "\n",
    "    \n",
    "    strList = []\n",
    "    nextPageToken = search_response.get('nextPageToken')\n",
    " \n",
    "    for search_result in search_response.get(\"items\", []):\n",
    "\n",
    "        response = youtube.videos().list(\n",
    "            part='statistics, snippet',\n",
    "            id=search_result['id']['videoId']).execute()\n",
    "\n",
    "        strVideoData = \"\"\n",
    "        likeCount = 'NA'\n",
    "        dislikeCount = 'NA'\n",
    "        viewCount = 'NA'\n",
    "        if 'likeCount' in response['items'][0]['statistics'].keys():\n",
    "            likeCount = response['items'][0]['statistics']['likeCount']\n",
    "\n",
    "        if 'dislikeCount' in response['items'][0]['statistics'].keys():\n",
    "            dislikeCount = response['items'][0]['statistics']['dislikeCount']\n",
    "\n",
    "        if 'viewCount' in response['items'][0]['statistics'].keys():\n",
    "            viewCount = response['items'][0]['statistics']['viewCount']\n",
    "\n",
    "        description = response['items'][0]['snippet']['description']\n",
    "        description = description.replace('\\n', \" \").replace('\\r', ' ')\n",
    "        strVideoData = search_result['id']['videoId'] + \"\\t\" +search_result['snippet']['title']+\"\\t\"+ description + \"\\t\" + \\\n",
    "            response['items'][0]['snippet']['channelId'] + \"\\t\" + response['items'][0]['snippet']['channelTitle'] + \"\\t\" + \\\n",
    "            response['items'][0]['snippet']['categoryId'] + \"\\t\" + response['items'][0]['statistics']['favoriteCount'] + \"\\t\" + \\\n",
    "            viewCount + \"\\t\" + likeCount + \"\\t\" + dislikeCount \n",
    "\n",
    "        if 'commentCount' in response['items'][0]['statistics'].keys():\n",
    "            strVideoData = strVideoData + \"\\t\" + response['items'][0]['statistics']['commentCount']\n",
    "        else:\n",
    "            strVideoData = strVideoData + \"\\t\" + \"\"\n",
    "      \n",
    "        if 'tags' in response['items'][0]['snippet'].keys():            \n",
    "            strVideoData = strVideoData + \"\\t\"\n",
    "            for val in response['items'][0]['snippet']['tags']:\n",
    "                strVideoData = strVideoData + val + \",\"\n",
    "        else:\n",
    "            strVideoData = strVideoData + \"\\t\" + \"\"\n",
    "\n",
    "        # Get comments\n",
    "        try:\n",
    "            response2 = youtube.commentThreads().list(\n",
    "              part=\"snippet\",\n",
    "              videoId=search_result['id']['videoId'],\n",
    "              textFormat=\"plainText\"\n",
    "              ).execute()\n",
    "            authors = \"\"\n",
    "            comments = \"\"\n",
    "\n",
    "            i = 0\n",
    "            if response2[\"items\"] != None:\n",
    "                for item in response2[\"items\"]:\n",
    "                    i += 1\n",
    "                    comment = item[\"snippet\"][\"topLevelComment\"]\n",
    "                    author = comment[\"snippet\"][\"authorDisplayName\"]\n",
    "                    text = comment[\"snippet\"][\"textDisplay\"]\n",
    "\n",
    "                    authors = authors + author + \":\"\n",
    "                    comments = comments + text + \":\"\n",
    "                    if i == 10:\n",
    "                        break\n",
    "        except(HttpError) as e:\n",
    "            authors = \"\"\n",
    "            comments = \"\"\n",
    "                \n",
    "        strVideoData = strVideoData + \"\\t\" + authors + \"\\t\" + comments.replace('\\n', \" \").replace('\\r', ' ') + \"\\n\"\n",
    "        strList.append(strVideoData)\n",
    "        \n",
    "    return nextPageToken, strList\n",
    "    \n",
    "    \n",
    "    \n",
    "def scrape_data():\n",
    "    categories = [2,1,10,15,17,18,19,20,21,22,23,24,25,26,27,28,29,30,31,32,33,34,35,36,37,38,39,40,41,42,43,44]\n",
    "    f = open(\"youtube_all.csv\", 'w')\n",
    "    f.write('videoId\\ttitle\\tdescription\\tchannelId\\tchannelTitle\\tcategoryId\\tfavoriteCount\\tviewCount\\tlikeCount\\tdislikeCount\\tcommentCount\\ttags\\tauthor\\tcomments\\n')\n",
    "    for category in categories:\n",
    "        nextPageToken = \"\"\n",
    "        tokens = {}\n",
    "\n",
    "        while nextPageToken is not None:\n",
    "\n",
    "            nextPageToken, strVideoDataList = youtube_search(category, nextPageToken)\n",
    "            if nextPageToken not in tokens.keys():\n",
    "                tokens[nextPageToken] = 1\n",
    "                for val in strVideoDataList:\n",
    "                    f.write(val)\n",
    "    f.close()\n",
    "    print(\"Done\")\n",
    "    \n",
    "scrape_data()\n",
    "df = pd.read_csv('youtube_all.csv', delimiter='\\t', error_bad_lines=False, header=0, dtype=object)\n",
    "df.head()"
   ]
  },
  {
   "cell_type": "markdown",
   "metadata": {
    "colab_type": "text",
    "id": "woUH2lvXTAST"
   },
   "source": [
    "# Exploratory Data Analysis"
   ]
  },
  {
   "cell_type": "markdown",
   "metadata": {
    "colab_type": "text",
    "id": "ERd0PsqwbGPv"
   },
   "source": [
    "Now that we have our scraped data from all the different categories, we would like to do some exploratory data analysis to see which category of videos get more popular amongst the audience. This can be compared against the emotions later in the notebook to see which particular segments get user viewership and likes.\n",
    "\n",
    "To start with our exploratory data analysis , we load our complete data file (with like and view numebrs) into a dataframe. We then build a map which can help us translate the category ID's back into readable categories. So we see that category ID of 25 is \"News & Politics\"."
   ]
  },
  {
   "cell_type": "code",
   "execution_count": 8,
   "metadata": {
    "colab": {
     "autoexec": {
      "startup": false,
      "wait_interval": 0
     }
    },
    "colab_type": "code",
    "collapsed": true,
    "id": "NfAhkJffS7xd"
   },
   "outputs": [],
   "source": [
    "df_eda = pd.read_csv('youtube_all.csv', delimiter='\\t', error_bad_lines=False, header=0, dtype=object)"
   ]
  },
  {
   "cell_type": "code",
   "execution_count": 9,
   "metadata": {
    "colab": {
     "autoexec": {
      "startup": false,
      "wait_interval": 0
     },
     "base_uri": "https://localhost:8080/",
     "height": 550
    },
    "colab_type": "code",
    "executionInfo": {
     "elapsed": 306,
     "status": "ok",
     "timestamp": 1526077619696,
     "user": {
      "displayName": "Sukrit Ajmani",
      "photoUrl": "https://lh3.googleusercontent.com/a/default-user=s128",
      "userId": "108504263953929089566"
     },
     "user_tz": 240
    },
    "id": "2wtl9nGnUCMe",
    "outputId": "a78b9133-eacf-4734-bc7f-a4452a723c46"
   },
   "outputs": [
    {
     "data": {
      "text/html": [
       "<div>\n",
       "<style>\n",
       "    .dataframe thead tr:only-child th {\n",
       "        text-align: right;\n",
       "    }\n",
       "\n",
       "    .dataframe thead th {\n",
       "        text-align: left;\n",
       "    }\n",
       "\n",
       "    .dataframe tbody tr th {\n",
       "        vertical-align: top;\n",
       "    }\n",
       "</style>\n",
       "<table border=\"1\" class=\"dataframe\">\n",
       "  <thead>\n",
       "    <tr style=\"text-align: right;\">\n",
       "      <th></th>\n",
       "      <th>videoId</th>\n",
       "      <th>title</th>\n",
       "      <th>description</th>\n",
       "      <th>channelId</th>\n",
       "      <th>channelTitle</th>\n",
       "      <th>categoryId</th>\n",
       "      <th>favoriteCount</th>\n",
       "      <th>viewCount</th>\n",
       "      <th>likeCount</th>\n",
       "      <th>dislikeCount</th>\n",
       "      <th>commentCount</th>\n",
       "      <th>tags</th>\n",
       "      <th>author</th>\n",
       "      <th>comments</th>\n",
       "    </tr>\n",
       "  </thead>\n",
       "  <tbody>\n",
       "    <tr>\n",
       "      <th>0</th>\n",
       "      <td>wglDXHRqVY0</td>\n",
       "      <td>$13,238.86 left in a NYC taxi</td>\n",
       "      <td>like me on https://www.facebook.com/cneistat  ...</td>\n",
       "      <td>UCtinbF-Q-fVthA0qrFQTgXQ</td>\n",
       "      <td>CaseyNeistat</td>\n",
       "      <td>Autos &amp; Vehicles</td>\n",
       "      <td>0</td>\n",
       "      <td>3724852</td>\n",
       "      <td>101090</td>\n",
       "      <td>894</td>\n",
       "      <td>4435</td>\n",
       "      <td>neistat,brothers,new,york,city,taxi,cab,yellow...</td>\n",
       "      <td>BryanStopMotionProduction:Azzam Khalid:Andrew ...</td>\n",
       "      <td>A great message:Thank You for this Casey. A lo...</td>\n",
       "    </tr>\n",
       "    <tr>\n",
       "      <th>1</th>\n",
       "      <td>qQ48NQjouoE</td>\n",
       "      <td>DC SHOES: GYMKHANA 2.1, BLOCK vs DYRDEK</td>\n",
       "      <td>As seen on MTVs Rob Dyrdeks Fantasy Factory, G...</td>\n",
       "      <td>UC-LqvZMkzlQIT2Wy6LyE1_A</td>\n",
       "      <td>DC Shoes</td>\n",
       "      <td>Autos &amp; Vehicles</td>\n",
       "      <td>0</td>\n",
       "      <td>16555394</td>\n",
       "      <td>44547</td>\n",
       "      <td>1108</td>\n",
       "      <td>4011</td>\n",
       "      <td>Ken,Block,Rob,Dyrdek,Gymkhana,DC,Shoes,Rally,S...</td>\n",
       "      <td>Emerson Francisco:Eanut P:dizzychizzy:angela w...</td>\n",
       "      <td>Htdask:haha:Damn I wish he killed drydek:I lik...</td>\n",
       "    </tr>\n",
       "  </tbody>\n",
       "</table>\n",
       "</div>"
      ],
      "text/plain": [
       "       videoId                                    title  \\\n",
       "0  wglDXHRqVY0            $13,238.86 left in a NYC taxi   \n",
       "1  qQ48NQjouoE  DC SHOES: GYMKHANA 2.1, BLOCK vs DYRDEK   \n",
       "\n",
       "                                         description  \\\n",
       "0  like me on https://www.facebook.com/cneistat  ...   \n",
       "1  As seen on MTVs Rob Dyrdeks Fantasy Factory, G...   \n",
       "\n",
       "                  channelId  channelTitle        categoryId favoriteCount  \\\n",
       "0  UCtinbF-Q-fVthA0qrFQTgXQ  CaseyNeistat  Autos & Vehicles             0   \n",
       "1  UC-LqvZMkzlQIT2Wy6LyE1_A      DC Shoes  Autos & Vehicles             0   \n",
       "\n",
       "  viewCount likeCount dislikeCount commentCount  \\\n",
       "0   3724852    101090          894         4435   \n",
       "1  16555394     44547         1108         4011   \n",
       "\n",
       "                                                tags  \\\n",
       "0  neistat,brothers,new,york,city,taxi,cab,yellow...   \n",
       "1  Ken,Block,Rob,Dyrdek,Gymkhana,DC,Shoes,Rally,S...   \n",
       "\n",
       "                                              author  \\\n",
       "0  BryanStopMotionProduction:Azzam Khalid:Andrew ...   \n",
       "1  Emerson Francisco:Eanut P:dizzychizzy:angela w...   \n",
       "\n",
       "                                            comments  \n",
       "0  A great message:Thank You for this Casey. A lo...  \n",
       "1  Htdask:haha:Damn I wish he killed drydek:I lik...  "
      ]
     },
     "execution_count": 9,
     "metadata": {},
     "output_type": "execute_result"
    }
   ],
   "source": [
    "eda_map = {\"categoryId\":     {\"2\": \"Autos & Vehicles\", \"1\": \"Film & Animation\" , \"10\":\"Music\" , \"15\":\"Pets & Animals\" , \"17\":\"Sports\"\n",
    "                              , \"18\":\"Short Movies\", \"19\":\"Travel & Events\",\"20\":\"Gaming\",\"21\":\"Vlogs\",\"22\":\"People & Blogs\"\n",
    "                               ,\"23\":\"Comedy\",\"24\":\"Entertainment\",\"25\":\"News & Politics\",\"26\":\"HowTo & Style\",\"27\":\"Education\"\n",
    "                             ,\"28\":\"Science & Technology\",\"29\":\"Nonprofits & Activism\",\"30\":\"Movies\",\"31\":\"Anime/Animation\"\n",
    "                             ,\"32\":\"Action/Adventure\",\"33\":\"Classics\",\"34\":\"Movies-Comedy\",\"35\":\"Documentary\",\"36\":\"Drama\"\n",
    "                             ,\"37\":\"Family\",\"38\":\"Foreign\",\"39\":\"Horror\",\"40\":\"Sci-Fi/Fantasy\",\"41\":\"Thriller\",\"42\":\"Shorts\"\n",
    "                             ,\"43\":\"Shows\",\"44\":\"Trailers\"}}\n",
    "\n",
    "df_eda_cat = df_eda.replace(eda_map)\n",
    "\n",
    "df_eda_cat.head(2)"
   ]
  },
  {
   "cell_type": "markdown",
   "metadata": {
    "colab_type": "text",
    "id": "Q-1_4CqudbKw"
   },
   "source": [
    "For our visualizations we upload the plotly library and load our username and api key . \n",
    "\n",
    "We are grouping our dataframe by category and counting the mean views per category in our view_mean group settings."
   ]
  },
  {
   "cell_type": "code",
   "execution_count": 10,
   "metadata": {
    "colab": {
     "autoexec": {
      "startup": false,
      "wait_interval": 0
     }
    },
    "colab_type": "code",
    "collapsed": true,
    "id": "hilNUuqTUUv4"
   },
   "outputs": [],
   "source": [
    "import plotly\n",
    "plotly.tools.set_credentials_file(username='sajmani', api_key='API_KEY')"
   ]
  },
  {
   "cell_type": "code",
   "execution_count": 11,
   "metadata": {
    "colab": {
     "autoexec": {
      "startup": false,
      "wait_interval": 0
     },
     "base_uri": "https://localhost:8080/",
     "height": 603
    },
    "colab_type": "code",
    "executionInfo": {
     "elapsed": 3596,
     "status": "ok",
     "timestamp": 1526077740874,
     "user": {
      "displayName": "Sukrit Ajmani",
      "photoUrl": "https://lh3.googleusercontent.com/a/default-user=s128",
      "userId": "108504263953929089566"
     },
     "user_tz": 240
    },
    "id": "fTnYY5JPUOMe",
    "outputId": "aa43a45c-6614-4a05-8267-e2a60df2523e"
   },
   "outputs": [
    {
     "name": "stdout",
     "output_type": "stream",
     "text": [
      "High five! You successfully sent some data to your account on plotly. View your plot in your browser at https://plot.ly/~sajmani/0 or inside your plot.ly account where it is named 'basic-bar'\n"
     ]
    },
    {
     "data": {
      "text/html": [
       "<iframe id=\"igraph\" scrolling=\"no\" style=\"border:none;\" seamless=\"seamless\" src=\"https://plot.ly/~sajmani/0.embed\" height=\"525px\" width=\"100%\"></iframe>"
      ],
      "text/plain": [
       "<plotly.tools.PlotlyDisplay object>"
      ]
     },
     "execution_count": 11,
     "metadata": {},
     "output_type": "execute_result"
    }
   ],
   "source": [
    "df_eda_cat['viewCount'] = pd.to_numeric(df_eda_cat['viewCount'], errors='coerce')\n",
    "view_mean = df_eda_cat.groupby('categoryId').agg({'viewCount':'mean'})\n",
    "\n",
    "data = [go.Bar(\n",
    "            x=view_mean.index.tolist(),\n",
    "            y=view_mean.values.tolist()\n",
    "    )]\n",
    "\n",
    "py.iplot(data, filename='basic-bar')\n"
   ]
  },
  {
   "cell_type": "markdown",
   "metadata": {
    "colab_type": "text",
    "id": "R_ZvzjMtd_Jc"
   },
   "source": [
    "We can see categories along the X axis and the number of views along the Y axis. Unsurprisingly , music leads all other categories by a big margin. We see movies , TV shows are the second leading views categories. While other categories have much smaller average number of views."
   ]
  },
  {
   "cell_type": "code",
   "execution_count": 12,
   "metadata": {
    "colab": {
     "autoexec": {
      "startup": false,
      "wait_interval": 0
     },
     "base_uri": "https://localhost:8080/",
     "height": 603
    },
    "colab_type": "code",
    "executionInfo": {
     "elapsed": 3688,
     "status": "ok",
     "timestamp": 1526078934286,
     "user": {
      "displayName": "Sukrit Ajmani",
      "photoUrl": "https://lh3.googleusercontent.com/a/default-user=s128",
      "userId": "108504263953929089566"
     },
     "user_tz": 240
    },
    "id": "tmSRfJUpWGOg",
    "outputId": "6fc03416-e78b-4e85-9747-ec6185f6103b"
   },
   "outputs": [
    {
     "name": "stdout",
     "output_type": "stream",
     "text": [
      "High five! You successfully sent some data to your account on plotly. View your plot in your browser at https://plot.ly/~sajmani/0 or inside your plot.ly account where it is named 'basic-bar'\n"
     ]
    },
    {
     "data": {
      "text/html": [
       "<iframe id=\"igraph\" scrolling=\"no\" style=\"border:none;\" seamless=\"seamless\" src=\"https://plot.ly/~sajmani/0.embed\" height=\"525px\" width=\"100%\"></iframe>"
      ],
      "text/plain": [
       "<plotly.tools.PlotlyDisplay object>"
      ]
     },
     "execution_count": 12,
     "metadata": {},
     "output_type": "execute_result"
    }
   ],
   "source": [
    "df_eda_cat['likeCount'] = pd.to_numeric(df_eda_cat['likeCount'], errors='coerce')\n",
    "like_mean = df_eda_cat.groupby('categoryId').agg({'likeCount':'mean'})\n",
    "\n",
    "data = [go.Bar(\n",
    "            x=like_mean.index.tolist(),\n",
    "            y=like_mean.values.tolist()\n",
    "    )]\n",
    "\n",
    "py.iplot(data, filename='basic-bar')"
   ]
  },
  {
   "cell_type": "markdown",
   "metadata": {
    "colab_type": "text",
    "id": "fKQUHehjebcq"
   },
   "source": [
    "For getting the number of likes, we do the same grouping according to the category ID , but instead of aggreagating on the number of views we aggreagate on the average number of views . \n",
    "\n",
    "The trend seems commensurate to the trend we saw in the average number of views by category. We see that the music videos still leads the category for number of likes closely followed by tv shows and movie videos."
   ]
  },
  {
   "cell_type": "markdown",
   "metadata": {
    "colab_type": "text",
    "id": "x3MmqdRcEgls"
   },
   "source": [
    "# Getting Features\n",
    "After scraping data from Youtube, we need to convert the text(title, description, tags, and comments) into numeric features. First we remove all non-alphabetic characters and perform lemmentization. Also, we only want to keep important words, so we remove stopwords and retain only nouns, verbs, adjectives, and adverbsu sing part-of-speech(POS) tagging. "
   ]
  },
  {
   "cell_type": "code",
   "execution_count": 14,
   "metadata": {
    "colab": {
     "autoexec": {
      "startup": false,
      "wait_interval": 0
     }
    },
    "colab_type": "code",
    "id": "lTC8q3L8CmR1"
   },
   "outputs": [
    {
     "data": {
      "text/html": [
       "<div>\n",
       "<style>\n",
       "    .dataframe thead tr:only-child th {\n",
       "        text-align: right;\n",
       "    }\n",
       "\n",
       "    .dataframe thead th {\n",
       "        text-align: left;\n",
       "    }\n",
       "\n",
       "    .dataframe tbody tr th {\n",
       "        vertical-align: top;\n",
       "    }\n",
       "</style>\n",
       "<table border=\"1\" class=\"dataframe\">\n",
       "  <thead>\n",
       "    <tr style=\"text-align: right;\">\n",
       "      <th></th>\n",
       "      <th>videoId</th>\n",
       "      <th>title</th>\n",
       "      <th>description</th>\n",
       "      <th>tags</th>\n",
       "      <th>comments</th>\n",
       "    </tr>\n",
       "  </thead>\n",
       "  <tbody>\n",
       "    <tr>\n",
       "      <th>0</th>\n",
       "      <td>wglDXHRqVY0</td>\n",
       "      <td>left nyc taxi</td>\n",
       "      <td>facebook cneistat new york time opdoc casey ne...</td>\n",
       "      <td>neistat new york city taxi cab yellow mohammad...</td>\n",
       "      <td>great message thank casey lot amazing video gl...</td>\n",
       "    </tr>\n",
       "    <tr>\n",
       "      <th>1</th>\n",
       "      <td>qQ48NQjouoE</td>\n",
       "      <td>dc shoe gymkhana block v dyrdek</td>\n",
       "      <td>seen mtvs rob dyrdeks fantasy factory gymkhana...</td>\n",
       "      <td>ken block rob dyrdek gymkhana dc shoe rally su...</td>\n",
       "      <td>htdask haha damn wish killed drydek little car...</td>\n",
       "    </tr>\n",
       "    <tr>\n",
       "      <th>2</th>\n",
       "      <td>4TshFWSsrn8</td>\n",
       "      <td>dc shoe ken block gymkhana part ultimate playg...</td>\n",
       "      <td>shot south paris france linas l ry mile oval t...</td>\n",
       "      <td>jim conner part hoon hoonage hooning hoonigan ...</td>\n",
       "      <td>um mega beijo kemily play officially american ...</td>\n",
       "    </tr>\n",
       "    <tr>\n",
       "      <th>3</th>\n",
       "      <td>kTB6tpnmveo</td>\n",
       "      <td>dc shoe ken block gymkhana build</td>\n",
       "      <td>information check u dcshoes</td>\n",
       "      <td>ken block gymkhana dc shoe rally subaru sti ra...</td>\n",
       "      <td>greasy finger kinda cool voltex generator old ...</td>\n",
       "    </tr>\n",
       "    <tr>\n",
       "      <th>4</th>\n",
       "      <td>aXR8Df_Bml0</td>\n",
       "      <td>man corner km h mph specttacular tt isle man tt</td>\n",
       "      <td>help support channel share patreon lockk paypa...</td>\n",
       "      <td>dunlop road racing suzuki kawasaki motorcycle ...</td>\n",
       "      <td>commentator man corner maria costello hold cha...</td>\n",
       "    </tr>\n",
       "  </tbody>\n",
       "</table>\n",
       "</div>"
      ],
      "text/plain": [
       "       videoId                                              title  \\\n",
       "0  wglDXHRqVY0                                      left nyc taxi   \n",
       "1  qQ48NQjouoE                    dc shoe gymkhana block v dyrdek   \n",
       "2  4TshFWSsrn8  dc shoe ken block gymkhana part ultimate playg...   \n",
       "3  kTB6tpnmveo                   dc shoe ken block gymkhana build   \n",
       "4  aXR8Df_Bml0    man corner km h mph specttacular tt isle man tt   \n",
       "\n",
       "                                         description  \\\n",
       "0  facebook cneistat new york time opdoc casey ne...   \n",
       "1  seen mtvs rob dyrdeks fantasy factory gymkhana...   \n",
       "2  shot south paris france linas l ry mile oval t...   \n",
       "3                        information check u dcshoes   \n",
       "4  help support channel share patreon lockk paypa...   \n",
       "\n",
       "                                                tags  \\\n",
       "0  neistat new york city taxi cab yellow mohammad...   \n",
       "1  ken block rob dyrdek gymkhana dc shoe rally su...   \n",
       "2  jim conner part hoon hoonage hooning hoonigan ...   \n",
       "3  ken block gymkhana dc shoe rally subaru sti ra...   \n",
       "4  dunlop road racing suzuki kawasaki motorcycle ...   \n",
       "\n",
       "                                            comments  \n",
       "0  great message thank casey lot amazing video gl...  \n",
       "1  htdask haha damn wish killed drydek little car...  \n",
       "2  um mega beijo kemily play officially american ...  \n",
       "3  greasy finger kinda cool voltex generator old ...  \n",
       "4  commentator man corner maria costello hold cha...  "
      ]
     },
     "execution_count": 14,
     "metadata": {},
     "output_type": "execute_result"
    }
   ],
   "source": [
    "'''\n",
    "  Create subset in format of original string or tokenized words\n",
    "'''\n",
    "\n",
    "def create_subset_str():\n",
    "    df = pd.read_csv('youtube_all.csv', delimiter='\\t', error_bad_lines=False, header=0, dtype=object)\n",
    "    new_df = df[['videoId', 'title', 'description', 'tags', 'comments']].copy()\n",
    "    return new_df\n",
    "\n",
    "\n",
    "def splitText(text):\n",
    "    my_stopwords = stopwords.words('english') + [\"http\", \"www\", \"com\"]\n",
    "    tokenizer = RegexpTokenizer(r'[a-zA-Z]+')\n",
    "    if not isinstance(text, type(\"str\")):\n",
    "        return []\n",
    "    text = text.lower()\n",
    "    tokens = tokenizer.tokenize(text)\n",
    "    wordnet_lemmatizer = WordNetLemmatizer()\n",
    "    lem_tokens = [wordnet_lemmatizer.lemmatize(w) for w in tokens]\n",
    "    nonstop_tokens = [w for w in lem_tokens if not w in my_stopwords]\n",
    "    # Keep JJ, JJR, JJS, NN, NNP, NNS, RB, RBR, RBS, VB, VBD, VBG, VBN, VBP, VBZ\n",
    "    tag_tokens = nltk.pos_tag(nonstop_tokens)\n",
    "    pos_tokens = [word for word, pos in tag_tokens if (pos == 'JJ' or pos == 'JJR' or pos == 'JJS' or pos == 'NN' or \\\n",
    "        pos == 'NNP' or pos == 'NNS' or pos == 'RB' or pos == 'RBR' or pos == 'VB' or pos == 'VBD' or pos == 'VBG' or pos == 'VBN' \\\n",
    "        or pos == 'VBP' or pos == 'VBZ')]\n",
    "    \n",
    "    return \" \".join(pos_tokens)\n",
    "\n",
    "\n",
    "def create_subset_token():\n",
    "    df = pd.read_csv('youtube_all.csv', delimiter='\\t', error_bad_lines=False, header=0, dtype=object)\n",
    "    new_df = df[['videoId', 'title', 'description', 'tags', 'comments']].copy()\n",
    "    new_df['title'] = new_df['title'].apply(splitText)\n",
    "    new_df['description'] = new_df['description'].apply(splitText)\n",
    "    new_df['tags'] = new_df['tags'].apply(splitText)\n",
    "    new_df['comments'] = new_df['comments'].apply(splitText)\n",
    "    return new_df\n",
    "\n",
    "df = create_subset_str() \n",
    "df.to_csv('youtube_subset_str.csv', sep='\\t', header=True, index=False)\n",
    "df.head()\n",
    "\n",
    "df = create_subset_token() \n",
    "df.to_csv('youtube_subset_token.csv', sep='\\t', header=True, index=False)\n",
    "df.head()\n"
   ]
  },
  {
   "cell_type": "markdown",
   "metadata": {
    "colab_type": "text",
    "id": "7m7sz7K1vhLV"
   },
   "source": [
    "Now we have a list of lemmentized words associated with each video. We then convert them into TF-IDF features using sklearn. Note that we use the bag of words approach so we simply count the frequency of words regardless of whether it comes from the title , description, tag, or comments. Another way to do this is to give more weights to words in title or description. This makes sense because comments usually reflect how the viewers feel but not the message the video is trying to convey.\n",
    "\n",
    "Our feature size is (14842, 140013)"
   ]
  },
  {
   "cell_type": "code",
   "execution_count": 17,
   "metadata": {
    "colab": {
     "autoexec": {
      "startup": false,
      "wait_interval": 0
     },
     "base_uri": "https://localhost:8080/",
     "height": 35
    },
    "colab_type": "code",
    "executionInfo": {
     "elapsed": 458,
     "status": "ok",
     "timestamp": 1525897102354,
     "user": {
      "displayName": "Tsai-Szu Hu",
      "photoUrl": "https://lh3.googleusercontent.com/a/default-user=s128",
      "userId": "100294501411221987415"
     },
     "user_tz": 240
    },
    "id": "H_icFpRrEkqS",
    "outputId": "8fdb984a-44c6-49a9-f232-e172503f57bc"
   },
   "outputs": [
    {
     "name": "stdout",
     "output_type": "stream",
     "text": [
      "(14842, 140013)\n"
     ]
    }
   ],
   "source": [
    "def create_features_from_csv(filename):\n",
    "    df = pd.read_csv(filename, delimiter='\\t', error_bad_lines=False, header=0, dtype='U')\n",
    "    corpus = df['title'] + \" \" + df['description'] + \" \" + df['tags'] + \" \" + df['comments']\n",
    "    vectorizer = TfidfVectorizer()\n",
    "    X = vectorizer.fit_transform(corpus.values.astype('U'))\n",
    "    idf = vectorizer.idf_\n",
    "    vocab = vectorizer.vocabulary_\n",
    "    return X, idf, vocab\n",
    "  \n",
    "\n",
    "features, idf, vocab = create_features_from_csv('youtube_subset_token.csv')\n",
    "print(features.shape)\n",
    "np.save('vocab.npy', vocab)\n",
    "sparse.save_npz(\"features.npz\", features)"
   ]
  },
  {
   "cell_type": "markdown",
   "metadata": {
    "colab_type": "text",
    "id": "oL8-gMtyGxKF"
   },
   "source": [
    "# Supervised - Getting Sentimental Labels from indico\n",
    "\n",
    "Supervised learning is the machine learning task of learning a function that maps an input to an output based on example input-output pairs. In our program we have scraped data off YouTube website , specifically the textual data - comments, description, title and tags. We can scrape the textual data off YouTube but we don't have them classified into emotions - Joy , Anger , Sadness , Surprise and Fear.\n",
    "\n",
    "To build a supervised machine learning model , we must have video data classified into one of these emotions. We can take two approach to get the classification - one would be human judgement of each video by scholars in the field. Second , would be to use a python library which classifies each string into one of the emotions. We will be going with the second approach.\n",
    "\n",
    "To begin our process , we load our data set which we stored earlier as the csv file. The file contains the video ID  and our textual data. To agree with the API limitations , we are splitting the dataset into two halves."
   ]
  },
  {
   "cell_type": "code",
   "execution_count": 18,
   "metadata": {
    "colab": {
     "autoexec": {
      "startup": false,
      "wait_interval": 0
     },
     "base_uri": "https://localhost:8080/",
     "height": 935
    },
    "colab_type": "code",
    "executionInfo": {
     "elapsed": 346,
     "status": "error",
     "timestamp": 1526085626775,
     "user": {
      "displayName": "Sukrit Ajmani",
      "photoUrl": "https://lh3.googleusercontent.com/a/default-user=s128",
      "userId": "108504263953929089566"
     },
     "user_tz": 240
    },
    "id": "HzmNRS7Qg01v",
    "outputId": "64a8a9fc-fda0-48a8-cda1-117cb010039a"
   },
   "outputs": [
    {
     "data": {
      "text/html": [
       "<div>\n",
       "<style>\n",
       "    .dataframe thead tr:only-child th {\n",
       "        text-align: right;\n",
       "    }\n",
       "\n",
       "    .dataframe thead th {\n",
       "        text-align: left;\n",
       "    }\n",
       "\n",
       "    .dataframe tbody tr th {\n",
       "        vertical-align: top;\n",
       "    }\n",
       "</style>\n",
       "<table border=\"1\" class=\"dataframe\">\n",
       "  <thead>\n",
       "    <tr style=\"text-align: right;\">\n",
       "      <th></th>\n",
       "      <th>videoId</th>\n",
       "      <th>title</th>\n",
       "      <th>description</th>\n",
       "      <th>tags</th>\n",
       "      <th>comments</th>\n",
       "    </tr>\n",
       "  </thead>\n",
       "  <tbody>\n",
       "    <tr>\n",
       "      <th>0</th>\n",
       "      <td>wglDXHRqVY0</td>\n",
       "      <td>$13,238.86 left in a NYC taxi</td>\n",
       "      <td>like me on https://www.facebook.com/cneistat  ...</td>\n",
       "      <td>neistat,brothers,new,york,city,taxi,cab,yellow...</td>\n",
       "      <td>A great message:Thank You for this Casey. A lo...</td>\n",
       "    </tr>\n",
       "    <tr>\n",
       "      <th>1</th>\n",
       "      <td>qQ48NQjouoE</td>\n",
       "      <td>DC SHOES: GYMKHANA 2.1, BLOCK vs DYRDEK</td>\n",
       "      <td>As seen on MTVs Rob Dyrdeks Fantasy Factory, G...</td>\n",
       "      <td>Ken,Block,Rob,Dyrdek,Gymkhana,DC,Shoes,Rally,S...</td>\n",
       "      <td>Htdask:haha:Damn I wish he killed drydek:I lik...</td>\n",
       "    </tr>\n",
       "    <tr>\n",
       "      <th>2</th>\n",
       "      <td>4TshFWSsrn8</td>\n",
       "      <td>DC SHOES: Ken Block's Gymkhana THREE, Part 2; ...</td>\n",
       "      <td>Shot just south of Paris, France in Linas at l...</td>\n",
       "      <td>Jim,Conner,Part,Hoon,Hoonage,Hooning,Hoonigan,...</td>\n",
       "      <td>um mega beijo kemily play:1:39 He is officiall...</td>\n",
       "    </tr>\n",
       "    <tr>\n",
       "      <th>3</th>\n",
       "      <td>kTB6tpnmveo</td>\n",
       "      <td>DC SHOES: KEN BLOCK GYMKHANA TWO BUILD</td>\n",
       "      <td>For more information check us out at http://ww...</td>\n",
       "      <td>Ken,Block,Gymkhana,DC,Shoes,Rally,Subaru,STI,r...</td>\n",
       "      <td>what ? no greasy fingers ;) ?:It would be kind...</td>\n",
       "    </tr>\n",
       "    <tr>\n",
       "      <th>4</th>\n",
       "      <td>aXR8Df_Bml0</td>\n",
       "      <td>That's A Man's Corner⚡️ 322 Km/h 200 MPH ✔️Spe...</td>\n",
       "      <td>Help support my channel if you can. Thank you ...</td>\n",
       "      <td>Dunlop,road racing,Suzuki,Kawasaki,motorcycle,...</td>\n",
       "      <td>Commentator \"That's a man's corner\". Maria Cos...</td>\n",
       "    </tr>\n",
       "  </tbody>\n",
       "</table>\n",
       "</div>"
      ],
      "text/plain": [
       "       videoId                                              title  \\\n",
       "0  wglDXHRqVY0                      $13,238.86 left in a NYC taxi   \n",
       "1  qQ48NQjouoE            DC SHOES: GYMKHANA 2.1, BLOCK vs DYRDEK   \n",
       "2  4TshFWSsrn8  DC SHOES: Ken Block's Gymkhana THREE, Part 2; ...   \n",
       "3  kTB6tpnmveo             DC SHOES: KEN BLOCK GYMKHANA TWO BUILD   \n",
       "4  aXR8Df_Bml0  That's A Man's Corner⚡️ 322 Km/h 200 MPH ✔️Spe...   \n",
       "\n",
       "                                         description  \\\n",
       "0  like me on https://www.facebook.com/cneistat  ...   \n",
       "1  As seen on MTVs Rob Dyrdeks Fantasy Factory, G...   \n",
       "2  Shot just south of Paris, France in Linas at l...   \n",
       "3  For more information check us out at http://ww...   \n",
       "4  Help support my channel if you can. Thank you ...   \n",
       "\n",
       "                                                tags  \\\n",
       "0  neistat,brothers,new,york,city,taxi,cab,yellow...   \n",
       "1  Ken,Block,Rob,Dyrdek,Gymkhana,DC,Shoes,Rally,S...   \n",
       "2  Jim,Conner,Part,Hoon,Hoonage,Hooning,Hoonigan,...   \n",
       "3  Ken,Block,Gymkhana,DC,Shoes,Rally,Subaru,STI,r...   \n",
       "4  Dunlop,road racing,Suzuki,Kawasaki,motorcycle,...   \n",
       "\n",
       "                                            comments  \n",
       "0  A great message:Thank You for this Casey. A lo...  \n",
       "1  Htdask:haha:Damn I wish he killed drydek:I lik...  \n",
       "2  um mega beijo kemily play:1:39 He is officiall...  \n",
       "3  what ? no greasy fingers ;) ?:It would be kind...  \n",
       "4  Commentator \"That's a man's corner\". Maria Cos...  "
      ]
     },
     "execution_count": 18,
     "metadata": {},
     "output_type": "execute_result"
    }
   ],
   "source": [
    "df = pd.read_csv('youtube_subset_str.csv', delimiter='\\t', error_bad_lines=False, header=0, dtype=object)\n",
    "df_bottom = df.loc[8000:]\n",
    "df_top = df.loc[:8000]\n",
    "\n",
    "df_top.head()"
   ]
  },
  {
   "cell_type": "markdown",
   "metadata": {
    "colab_type": "text",
    "id": "5Iv42x_yx3BM"
   },
   "source": [
    "The method below is the main method which will be used to get the emotional probabilities of any given string. We load the method with our API key and call the library with the string. The string returns a list of emotions and its associated probabilities."
   ]
  },
  {
   "cell_type": "code",
   "execution_count": 20,
   "metadata": {
    "colab": {
     "autoexec": {
      "startup": false,
      "wait_interval": 0
     }
    },
    "colab_type": "code",
    "collapsed": true,
    "id": "usiH6CHQjCZA"
   },
   "outputs": [],
   "source": [
    "def extract_emotions(text):\n",
    "    indicoio.config.api_key = 'API_KEY'\n",
    "    emotions = indicoio.emotion([text])\n",
    "    \n",
    "    return emotions"
   ]
  },
  {
   "cell_type": "markdown",
   "metadata": {
    "colab_type": "text",
    "id": "ay-h8Bf7yKyD"
   },
   "source": [
    "To see how the method works , we will make our method call with a single string. The string is from CNN news video on Youtube. We are passing just the title of the videio and printing the probability of each emotion."
   ]
  },
  {
   "cell_type": "code",
   "execution_count": 21,
   "metadata": {
    "colab": {
     "autoexec": {
      "startup": false,
      "wait_interval": 0
     },
     "base_uri": "https://localhost:8080/",
     "height": 334
    },
    "colab_type": "code",
    "executionInfo": {
     "elapsed": 264,
     "status": "error",
     "timestamp": 1526085640564,
     "user": {
      "displayName": "Sukrit Ajmani",
      "photoUrl": "https://lh3.googleusercontent.com/a/default-user=s128",
      "userId": "108504263953929089566"
     },
     "user_tz": 240
    },
    "id": "-lmvS-rnky_f",
    "outputId": "abd8b0f2-ff8d-4a05-c116-979a2e142735"
   },
   "outputs": [
    {
     "name": "stdout",
     "output_type": "stream",
     "text": [
      "[{'anger': 0.11101813614368439, 'surprise': 0.3398246467113495, 'sadness': 0.26323071122169495, 'fear': 0.23540082573890686, 'joy': 0.05052563548088074}]\n",
      "surprise\n"
     ]
    }
   ],
   "source": [
    "#https://www.youtube.com/watch?v=ijFPMrptrwE\n",
    "x = extract_emotions(\"President Obama cries during gun violence speech\")\n",
    "print(x)\n",
    "classification = max(x[0], key=x[0].get)\n",
    "print(classification)"
   ]
  },
  {
   "cell_type": "markdown",
   "metadata": {
    "colab_type": "text",
    "id": "C0K1dT5Lylve"
   },
   "source": [
    "The string is classified as majorly surprise and sadness , with surprise as 33% and sadness as 26%. This seems valid as President crying would be a surprising news. Also, the text itself is classifed as sad because of use of the word tears and gun violence.\n",
    "\n",
    "The next method is used to call the indico library methods on our video data. We iterate through our data frame and for each row we concatenate all the textual data as one string which is seperated by string. We remove the \" : \" which was used to seperate comments and \" , \" which was used to seperate tags.\n",
    "\n",
    "The method returns a list which has five emotions and its corresponding probabilites , we extract the emotion with the highest probability and store it as the next column in our dataframe.\n"
   ]
  },
  {
   "cell_type": "code",
   "execution_count": 0,
   "metadata": {
    "colab": {
     "autoexec": {
      "startup": false,
      "wait_interval": 0
     }
    },
    "colab_type": "code",
    "collapsed": true,
    "id": "rykprSdLk-lE"
   },
   "outputs": [],
   "source": [
    "def data_iterator(df):\n",
    "    emotion_class = []\n",
    "    for index,row in df.iterrows():\n",
    "        videoId = row['videoId']\n",
    "        title = row['title']\n",
    "        description = row['description']\n",
    "        tags = row['tags']\n",
    "        comments = row['comments']\n",
    "    \n",
    "        str(comments).replace(\":\",\" \")\n",
    "        str(tags).replace(\",\",\" \")\n",
    "        emotion_string = str(title)+str(tags)+str(description)+str(comments)\n",
    "        \n",
    "        emotion_list = extract_emotions(emotion_string)\n",
    "        classification = max(emotion_list[0], key=emotion_list[0].get)\n",
    "        emotion_class.append(classification)\n",
    "        \n",
    "    df['emotion_classsification'] = emotion_class\n",
    "    return df"
   ]
  },
  {
   "cell_type": "markdown",
   "metadata": {
    "colab_type": "text",
    "id": "33xaqSpQ0X46"
   },
   "source": [
    "Calling both the data subsets indidually using the data_iterator method."
   ]
  },
  {
   "cell_type": "code",
   "execution_count": 0,
   "metadata": {
    "colab": {
     "autoexec": {
      "startup": false,
      "wait_interval": 0
     }
    },
    "colab_type": "code",
    "collapsed": true,
    "id": "8urIfsVflBBu"
   },
   "outputs": [],
   "source": [
    "df_classification = data_iterator(df_top)\n",
    "df_classification1 = data_iterator(df_bottom)"
   ]
  },
  {
   "cell_type": "markdown",
   "metadata": {
    "colab_type": "text",
    "id": "W_lQ-b8P0hkI"
   },
   "source": [
    "The emotion is classified as a string , for our machine learning models to work we must map these string values to corresponding integers. We use a mapping method to change these strings to integers."
   ]
  },
  {
   "cell_type": "code",
   "execution_count": 0,
   "metadata": {
    "colab": {
     "autoexec": {
      "startup": false,
      "wait_interval": 0
     }
    },
    "colab_type": "code",
    "collapsed": true,
    "id": "fNRAor6hlRVf"
   },
   "outputs": [],
   "source": [
    "cleanup_emotions = {\"emotion_classsification\":     {\"joy\": 1, \"anger\": 2 , \"fear\":3 , \"sadness\":4 , \"surprise\":5}}\n",
    "df_class_num = df_classification.replace(cleanup_emotions)\n",
    "df_class_num1 = df_classifcation1.replace(cleanup_emotions)"
   ]
  },
  {
   "cell_type": "markdown",
   "metadata": {
    "colab_type": "text",
    "id": "75WSG6X51JP3"
   },
   "source": [
    "We concatenate both our halves into one single dataframe now. We use the pandas library funtion to combine this into one data frame named df_final"
   ]
  },
  {
   "cell_type": "code",
   "execution_count": 0,
   "metadata": {
    "colab": {
     "autoexec": {
      "startup": false,
      "wait_interval": 0
     }
    },
    "colab_type": "code",
    "collapsed": true,
    "id": "wk9Ehwtlnn2G"
   },
   "outputs": [],
   "source": [
    "frames = [df_class_num,df_class_num1]\n",
    "df_final = pd.concat(frames)"
   ]
  },
  {
   "cell_type": "markdown",
   "metadata": {
    "colab_type": "text",
    "id": "gdBH9Knw1TJn"
   },
   "source": [
    "Writing our dataframe with classified emotions into a comma seperated value file , so that it can be processed by our machine learning algorithms."
   ]
  },
  {
   "cell_type": "code",
   "execution_count": 0,
   "metadata": {
    "colab": {
     "autoexec": {
      "startup": false,
      "wait_interval": 0
     }
    },
    "colab_type": "code",
    "collapsed": true,
    "id": "Bo34skupnTRB"
   },
   "outputs": [],
   "source": [
    "df_final.to_csv('youtube_class_num.csv',sep='\\t', header=True, index=False)"
   ]
  },
  {
   "cell_type": "markdown",
   "metadata": {
    "colab_type": "text",
    "id": "XHQ1nE5g1gRd"
   },
   "source": [
    "The file now contains video ID the textual data along with classifications. Along with our TFIDF model and logsitic regresssion model , we can learn that which words tend to create which emotion on YouTube. We will see combination of our featureset and ML model in coming sections."
   ]
  },
  {
   "cell_type": "markdown",
   "metadata": {
    "colab_type": "text",
    "id": "deSwtQHv3vlj"
   },
   "source": [
    "# Unsupervised - Getting Labels by Emotion Dictionary (NRC Word-Emotion)\n"
   ]
  },
  {
   "cell_type": "markdown",
   "metadata": {
    "colab_type": "text",
    "id": "MxOwuudHuw-e"
   },
   "source": [
    "Here we take a look to unsupervised machine learning approach which uses emotion dictionary for video categorization. After a pre-processing procedure, terms in the Youtube corpus were annotated. The emotion dictionary used here is referenced from ScienceDirect (\n",
    "NRC Word-Emotion Association Lexicon).\n",
    "\n",
    "Then using the correlations between these words and the five distinct emotion categories correlations were calculated and the youtube videos were classified accordingly. \n",
    "The emotion dictionary approach comprises two parts, and these are (1) Data pre-processing, and (2) computing emotion scores for classification.\n",
    "\n",
    "\n"
   ]
  },
  {
   "cell_type": "code",
   "execution_count": 0,
   "metadata": {
    "colab": {
     "autoexec": {
      "startup": false,
      "wait_interval": 0
     }
    },
    "colab_type": "code",
    "collapsed": true,
    "id": "KThw-KbxZyzF"
   },
   "outputs": [],
   "source": [
    "# reading the file which has tokens corresponding to videoIds\n",
    "import pandas as pd\n",
    "import itertools\n",
    "df = pd.read_pickle('youtube_subset_token.pkl')"
   ]
  },
  {
   "cell_type": "markdown",
   "metadata": {
    "colab_type": "text",
    "id": "fHEvBVV6y_9e"
   },
   "source": [
    "Here we are creating a vocabulary to be used to train word2vec model. We are using words we get from tags, tiltes, descriptions and comments. Also these words are used with words from 5 emotion dictionary to train our model."
   ]
  },
  {
   "cell_type": "code",
   "execution_count": 0,
   "metadata": {
    "colab": {
     "autoexec": {
      "startup": false,
      "wait_interval": 0
     }
    },
    "colab_type": "code",
    "collapsed": true,
    "id": "Yh6MWimWjlzZ"
   },
   "outputs": [],
   "source": [
    "# Creating vocabulary for word2vec\n",
    "def createWordDict():\n",
    "    words = []\n",
    "    count = 0\n",
    "    for videoId in df['videoId']:\n",
    "        words.append(df.iloc[count,1])\n",
    "        words.append(df.iloc[count,2])\n",
    "        words.append(df.iloc[count,3])\n",
    "        words.append(df.iloc[count,4])\n",
    "        count += 1\n",
    "    # print(\"Done\")\n",
    "\n",
    "\n",
    "    count = 0\n",
    "    word_list = []\n",
    "    emotion_words = ['Belligerent', 'adversary', 'noise', 'angry', 'distrust', 'wretch', 'forcibly',\n",
    "    'incredulous', 'blatant', 'irate', 'grope','Abhor', 'compost', 'grime', 'mucus', 'unwash', 'abundance', 'god',\n",
    "    'pimple', 'sloth', 'vomit', 'lemon','Balm', 'benign', 'evergreen', 'fun', 'hilarity', 'glide', 'romp', 'symphony',\n",
    "    'motherhood', 'hoppy', 'joy','Ailing', 'cyclone', 'fear', 'typhoon', 'martyrdom', 'cartridge', 'birch',\n",
    "    'horror', 'dishonour', 'thundering', 'autopsy','dolour', 'landslide', 'melancholy', 'subvert', 'sad', 'melancholy',\n",
    "    'myopia', 'remiss', 'pessimist', 'bleak', 'cry','Stealthy', 'peri', 'chimera', 'surprise']\n",
    "    word_list.append(emotion_words)\n",
    "\n",
    "    for word in words:\n",
    "        print(word)\n",
    "        word_list.append(word)\n",
    "    vocabulary = list(itertools.chain.from_iterable(word_list))\n",
    "    vocabulary = set(vocabulary)\n",
    "    # vocabulary = set(vocabulary2)\n",
    "    return vocabulary\n",
    "    print(\"Done\")"
   ]
  },
  {
   "cell_type": "code",
   "execution_count": 22,
   "metadata": {
    "colab": {
     "autoexec": {
      "startup": false,
      "wait_interval": 0
     }
    },
    "colab_type": "code",
    "id": "THnBUWpyjo24"
   },
   "outputs": [
    {
     "name": "stdout",
     "output_type": "stream",
     "text": [
      "Done\n"
     ]
    }
   ],
   "source": [
    "vocabulary = createWordDict()"
   ]
  },
  {
   "cell_type": "markdown",
   "metadata": {
    "colab_type": "text",
    "id": "BT_okA6kzhAv"
   },
   "source": [
    "Now,  feeding vocabulary to word2vec and building the model"
   ]
  },
  {
   "cell_type": "code",
   "execution_count": 0,
   "metadata": {
    "colab": {
     "autoexec": {
      "startup": false,
      "wait_interval": 0
     }
    },
    "colab_type": "code",
    "collapsed": true,
    "id": "TA0iWUbyjq6b"
   },
   "outputs": [],
   "source": [
    "# Training the model\n",
    "import gensim as gs\n",
    "# model = gs.models.KeyedVectors.load_word2vec_format('glove.6B.50d.txt', binary=BINARY,encoding=\"ISO-8859-1\")\n",
    "def modelTrain(vocabulary):\n",
    "    model = gs.models.Word2Vec(\n",
    "        sg=1,\n",
    "        min_count=1\n",
    "    )\n",
    "    model.build_vocab([vocabulary])\n",
    "    model.train([vocabulary], total_examples=len(vocabulary), epochs=10)\n",
    "    return model\n",
    "\n"
   ]
  },
  {
   "cell_type": "code",
   "execution_count": 0,
   "metadata": {
    "colab": {
     "autoexec": {
      "startup": false,
      "wait_interval": 0
     }
    },
    "colab_type": "code",
    "collapsed": true,
    "id": "yoe9LinAjtDz"
   },
   "outputs": [],
   "source": [
    "model = modelTrain(vocabulary)"
   ]
  },
  {
   "cell_type": "markdown",
   "metadata": {
    "colab_type": "text",
    "id": "iuTi9KId0Erg"
   },
   "source": [
    "After getting shallow neural-network model (word2vec) we are calculating the probability of each video belonging to different emotion categories. We are using word embedding to check the correlation and using that we are calculating the probabilties of each emotion."
   ]
  },
  {
   "cell_type": "code",
   "execution_count": 0,
   "metadata": {
    "colab": {
     "autoexec": {
      "startup": false,
      "wait_interval": 0
     }
    },
    "colab_type": "code",
    "collapsed": true,
    "id": "z-6x7lT7ju8E"
   },
   "outputs": [],
   "source": [
    "# Iterating through each videoId to calculate the probability corresponding each emotion\n",
    "# It returns the emotion dictionary which contains emotions and probabilites\n",
    "def getEmotionPrediction():\n",
    "    emotion_prediction = {}\n",
    "    count = 0\n",
    "    print(len(df['videoId']))\n",
    "    emotion_dict = {}\n",
    "    emotion_dict['Angry'] = ['Belligerent', 'adversary', 'noise', 'angry', 'distrust', 'wretch', 'forcibly',\n",
    "    'incredulous', 'blatant', 'irate', 'grope']\n",
    "    # emotion_dict['Disgust']= ['Abhor', 'compost', 'grime', 'mucus', 'unwash', 'abundance', 'god',\n",
    "    # 'pimple', 'sloth', 'vomit', 'lemon']\n",
    "    emotion_dict['Happy'] = ['Balm', 'benign', 'evergreen', 'fun', 'hilarity', 'glide', 'romp', 'symphony',\n",
    "    'motherhood', 'hoppy', 'joy']\n",
    "    emotion_dict['Fear'] =  ['Ailing', 'cyclone', 'fear', 'typhoon', 'martyrdom', 'cartridge', 'birch',\n",
    "    'horror', 'dishonour', 'thundering', 'autopsy']\n",
    "\n",
    "    emotion_dict['Sad'] = ['dolour', 'landslide', 'melancholy', 'subvert', 'sad', 'melancholy',\n",
    "    'myopia', 'remiss', 'pessimist', 'bleak', 'cry']\n",
    "\n",
    "    emotion_dict['Surprise'] = ['Stealthy', 'peri', 'chimera', 'surprise']\n",
    "    for vId in df['videoId']:\n",
    "        words = []\n",
    "        each_word_emotion_pred = {}\n",
    "        print(count)\n",
    "        words.append(df.iloc[count,1])\n",
    "        words.append(df.iloc[count,2])\n",
    "        words.append(df.iloc[count,3])\n",
    "        words.append(df.iloc[count,4])\n",
    "        words = list(itertools.chain.from_iterable(words))\n",
    "    #     print((words))\n",
    "        count += 1\n",
    "        for word in words:\n",
    "            emotions = emotion_dict.keys()\n",
    "            for each_emotion in emotions:\n",
    "                for val in emotion_dict[each_emotion]:\n",
    "                    if each_emotion in each_word_emotion_pred.keys():\n",
    "                        each_word_emotion_pred[each_emotion] = each_word_emotion_pred[each_emotion]+model.wv.similarity(word,val)     \n",
    "                    else:\n",
    "                        each_word_emotion_pred[each_emotion] = model.wv.similarity(word,val)\n",
    "        if not each_word_emotion_pred:\n",
    "            keys_emotions = emotion_dict.keys()\n",
    "            for emotion in keys_emotions:\n",
    "                each_word_emotion_pred[emotion] = 0.2\n",
    "            emotion_prediction[vId] = each_word_emotion_pred\n",
    "        else:\n",
    "            minVal = min(each_word_emotion_pred.values())\n",
    "            maxVal = max(each_word_emotion_pred.values())\n",
    "            diff = maxVal- minVal\n",
    "#             meanOfSum = total/len(each_word_emotion_pred.keys())\n",
    "            each_word_emotion_pred = {k: (v - minVal)/(diff) for k, v in each_word_emotion_pred.items()}\n",
    "            total2 = sum(each_word_emotion_pred.values())\n",
    "            each_word_emotion_pred = {k: v / total2 for k, v in each_word_emotion_pred.items()}\n",
    "            emotion_prediction[vId] = each_word_emotion_pred\n",
    "    #     print(vId,each_word_emotion_pred)\n",
    "    return emotion_prediction\n",
    "    print(\"Done\")\n",
    "                    \n",
    "\n"
   ]
  },
  {
   "cell_type": "markdown",
   "metadata": {
    "colab_type": "text",
    "id": "Ma6l-APS1UHN"
   },
   "source": [
    "Saving the result in a file since our code takes time to run."
   ]
  },
  {
   "cell_type": "code",
   "execution_count": 0,
   "metadata": {
    "colab": {
     "autoexec": {
      "startup": false,
      "wait_interval": 0
     }
    },
    "colab_type": "code",
    "collapsed": true,
    "id": "ZpkM9v-Fjzzf"
   },
   "outputs": [],
   "source": [
    "# saving the result of emotion prediction in a file\n",
    "emotion_prediction = getEmotionPrediction()\n",
    "df_labels = pd.DataFrame(data=emotion_prediction)\n",
    "print(df_labels.head())\n",
    "file_name = \"emotionLabels.csv\"\n",
    "df_labels.to_csv(file_name, sep='\\t', index=False,header = True)"
   ]
  },
  {
   "cell_type": "markdown",
   "metadata": {
    "colab_type": "text",
    "id": "Axj5j1el1eLf"
   },
   "source": [
    "Generating labels from the probabilities we got. Here we are assigning labels according to emotions and then returning np.array of labels.\n",
    "The labels and features will be used in below recommendation system to train the SVM model and predict predict the emotions of a new video."
   ]
  },
  {
   "cell_type": "code",
   "execution_count": 0,
   "metadata": {
    "colab": {
     "autoexec": {
      "startup": false,
      "wait_interval": 0
     }
    },
    "colab_type": "code",
    "collapsed": true,
    "id": "kWv35ANLrZ5s"
   },
   "outputs": [],
   "source": [
    "import numpy as np\n",
    "import operator\n",
    "emotion_label_list = []\n",
    "\n",
    "def makingLabels():\n",
    "    # stats = {'a':1000, 'b':3000, 'c': 100, 'd':3000}\n",
    "    # max(stats.iteritems(), key=operator.itemgetter(1))[0]\n",
    "    label1 = 0\n",
    "    label2 = 0\n",
    "    label3 = 0\n",
    "    label4 = 0\n",
    "    label5 = 0\n",
    "    for key in emotion_prediction.keys():\n",
    "        stats = emotion_prediction[key]\n",
    "        k = max(stats.items(), key=operator.itemgetter(1))[0]\n",
    "    #     print(k)\n",
    "        if k == 'Happy':\n",
    "            label1 += 1\n",
    "            emotion_label_list.append('1')\n",
    "        if k == 'Angry':\n",
    "            emotion_label_list.append('2')\n",
    "            label2 += 1\n",
    "        if k == 'Fear':\n",
    "            label3 += 1\n",
    "            emotion_label_list.append('3')\n",
    "        if k == 'Sad':\n",
    "            label4 += 1\n",
    "            emotion_label_list.append('4')\n",
    "        if k == 'Surprise':\n",
    "            label5 += 1\n",
    "            emotion_label_list.append('5')\n",
    "    # print(emotion_label_list)\n",
    "\n",
    "    print(label1, label2, label3, label4, label5)      \n",
    "    # print(len(emotion_label_list))\n",
    "    labels_em = np.array(emotion_label_list)\n",
    "    # print(labels_em)\n",
    "    # np.save(\"unsupervised_labels2\" , labels_em)\n",
    "    return labels_em"
   ]
  },
  {
   "cell_type": "code",
   "execution_count": 0,
   "metadata": {
    "colab": {
     "autoexec": {
      "startup": false,
      "wait_interval": 0
     }
    },
    "colab_type": "code",
    "collapsed": true,
    "id": "qtYebWnHro2a"
   },
   "outputs": [],
   "source": [
    "np.save(\"unsupervised_labels2\" , labels_em)"
   ]
  },
  {
   "cell_type": "markdown",
   "metadata": {
    "colab_type": "text",
    "id": "a6bsmws8pCKT"
   },
   "source": [
    "# Data Visualization\n",
    "\n",
    "We will now revisit our graphs to see if we can see any particular trends for the views and likes according to emotions. We will also see our distribution of our data according to different videos. We reload our data which has the view count and the like count into a dataframe.\n",
    "\n",
    "We add another variable which has the emotion classifier for each of the videos. We can now group by this emotion to see the view count , like count and number of videos by each emotion. This can help us analyze which videos resonate well with the audience, and gain popularity.\n",
    "\n",
    "We start by loading our dcomplete data set and our predicted data set into dataframes. We take the emotion column and append it to our original dataframe."
   ]
  },
  {
   "cell_type": "code",
   "execution_count": 23,
   "metadata": {
    "colab": {
     "autoexec": {
      "startup": false,
      "wait_interval": 0
     }
    },
    "colab_type": "code",
    "collapsed": true,
    "id": "9HpkqCmWrADm"
   },
   "outputs": [],
   "source": [
    "df_eda = pd.read_csv('youtube_all.csv', delimiter='\\t', error_bad_lines=False, header=0, dtype=object)\n",
    "df_pred = pd.read_csv('youtube_class_num.csv', delimiter='\\t', error_bad_lines=False, header=0, dtype=object)\n",
    "df_eda.loc[:,'emotion'] = df_pred['emotion_classsification']"
   ]
  },
  {
   "cell_type": "markdown",
   "metadata": {
    "colab_type": "text",
    "id": "NCDNgm4i58Mz"
   },
   "source": [
    "We create a map to map numeric category to categorical category. We also map the numeric emotions to categorical emotions. We group by categories and calculate the like and view count of each of the groups to see how different emotions influence the view and like counts."
   ]
  },
  {
   "cell_type": "code",
   "execution_count": 24,
   "metadata": {
    "colab": {
     "autoexec": {
      "startup": false,
      "wait_interval": 0
     }
    },
    "colab_type": "code",
    "collapsed": true,
    "id": "aiFHSC2brSMt"
   },
   "outputs": [],
   "source": [
    "eda_map = {\"categoryId\":     {\"2\": \"Autos & Vehicles\", \"1\": \"Film & Animation\" , \"10\":\"Music\" , \"15\":\"Pets & Animals\" , \"17\":\"Sports\"\n",
    "                              , \"18\":\"Short Movies\", \"19\":\"Travel & Events\",\"20\":\"Gaming\",\"21\":\"Vlogs\",\"22\":\"People & Blogs\"\n",
    "                               ,\"23\":\"Comedy\",\"24\":\"Entertainment\",\"25\":\"News & Politics\",\"26\":\"HowTo & Style\",\"27\":\"Education\"\n",
    "                             ,\"28\":\"Science & Technology\",\"29\":\"Nonprofits & Activism\",\"30\":\"Movies\",\"31\":\"Anime/Animation\"\n",
    "                             ,\"32\":\"Action/Adventure\",\"33\":\"Classics\",\"34\":\"Movies-Comedy\",\"35\":\"Documentary\",\"36\":\"Drama\"\n",
    "                             ,\"37\":\"Family\",\"38\":\"Foreign\",\"39\":\"Horror\",\"40\":\"Sci-Fi/Fantasy\",\"41\":\"Thriller\",\"42\":\"Shorts\"\n",
    "                             ,\"43\":\"Shows\",\"44\":\"Trailers\"}}\n",
    "\n",
    "reverse_emotion_map = {\"emotion\":     {\"1\": \"joy\", \"2\": \"anger\" , \"3\":\"fear\" , \"4\":\"sadness\" , \"5\":\"surprise\"}}\n",
    "\n",
    "df_eda = df_eda.replace(reverse_emotion_map)\n",
    "df_eda_cat = df_eda.replace(eda_map)\n",
    "\n",
    "df_eda_cat['likeCount'] = pd.to_numeric(df_eda_cat['likeCount'], errors='coerce')\n",
    "df_eda_cat['viewCount'] = pd.to_numeric(df_eda_cat['viewCount'], errors='coerce')\n",
    "\n",
    "emotion_like_mean = df_eda_cat.groupby('emotion').agg({'likeCount':'mean'})\n",
    "emotion_view_mean = df_eda_cat.groupby('emotion').agg({'viewCount':'mean'})"
   ]
  },
  {
   "cell_type": "code",
   "execution_count": 25,
   "metadata": {
    "colab": {
     "autoexec": {
      "startup": false,
      "wait_interval": 0
     }
    },
    "colab_type": "code",
    "id": "Mph6DvTLtX25"
   },
   "outputs": [
    {
     "name": "stdout",
     "output_type": "stream",
     "text": [
      "High five! You successfully sent some data to your account on plotly. View your plot in your browser at https://plot.ly/~sajmani/0 or inside your plot.ly account where it is named 'basic-bar'\n"
     ]
    },
    {
     "data": {
      "text/html": [
       "<iframe id=\"igraph\" scrolling=\"no\" style=\"border:none;\" seamless=\"seamless\" src=\"https://plot.ly/~sajmani/0.embed\" height=\"525px\" width=\"100%\"></iframe>"
      ],
      "text/plain": [
       "<plotly.tools.PlotlyDisplay object>"
      ]
     },
     "execution_count": 25,
     "metadata": {},
     "output_type": "execute_result"
    }
   ],
   "source": [
    "data = [go.Bar(\n",
    "            x=emotion_like_mean.index.tolist(),\n",
    "            y=emotion_like_mean.values.tolist()\n",
    "    )]\n",
    "\n",
    "py.iplot(data, filename='basic-bar')"
   ]
  },
  {
   "cell_type": "code",
   "execution_count": 26,
   "metadata": {
    "colab": {
     "autoexec": {
      "startup": false,
      "wait_interval": 0
     }
    },
    "colab_type": "code",
    "id": "sstMie-qtVvq"
   },
   "outputs": [
    {
     "name": "stdout",
     "output_type": "stream",
     "text": [
      "High five! You successfully sent some data to your account on plotly. View your plot in your browser at https://plot.ly/~sajmani/0 or inside your plot.ly account where it is named 'basic-bar'\n"
     ]
    },
    {
     "data": {
      "text/html": [
       "<iframe id=\"igraph\" scrolling=\"no\" style=\"border:none;\" seamless=\"seamless\" src=\"https://plot.ly/~sajmani/0.embed\" height=\"525px\" width=\"100%\"></iframe>"
      ],
      "text/plain": [
       "<plotly.tools.PlotlyDisplay object>"
      ]
     },
     "execution_count": 26,
     "metadata": {},
     "output_type": "execute_result"
    }
   ],
   "source": [
    "data = [go.Bar(\n",
    "            x=emotion_like_mean.values.tolist(),\n",
    "            y=emotion_view_mean.values.tolist()\n",
    "    )]\n",
    "\n",
    "py.iplot(data, filename='basic-bar')"
   ]
  },
  {
   "cell_type": "markdown",
   "metadata": {
    "colab_type": "text",
    "id": "GaW1-fx765JI"
   },
   "source": [
    "As you can see, most of our data are predicted as sadness with anger being the least. This bias would affect our training in the next step. Besides this, we can see that there is a positive correlation between likes and view counts."
   ]
  },
  {
   "cell_type": "markdown",
   "metadata": {
    "colab_type": "text",
    "id": "fX1DVBnVHFRh"
   },
   "source": [
    "# Training and Predicting\n",
    "We now have two sources of labels, one from the indico sentimental analysis, and one from our own implementation based on the emotion dictionary method. We now train two classifiers to predict the emotion of unseen videos. First, we split the data into 70% training and 30% testing."
   ]
  },
  {
   "cell_type": "code",
   "execution_count": 27,
   "metadata": {
    "colab": {
     "autoexec": {
      "startup": false,
      "wait_interval": 0
     },
     "base_uri": "https://localhost:8080/",
     "height": 69
    },
    "colab_type": "code",
    "executionInfo": {
     "elapsed": 536,
     "status": "ok",
     "timestamp": 1526072573147,
     "user": {
      "displayName": "Tsai-Szu Hu",
      "photoUrl": "https://lh3.googleusercontent.com/a/default-user=s128",
      "userId": "100294501411221987415"
     },
     "user_tz": 240
    },
    "id": "l9NNee-44dFZ",
    "outputId": "5656d2b2-f814-42e9-f854-a9feab3f46cd"
   },
   "outputs": [
    {
     "name": "stdout",
     "output_type": "stream",
     "text": [
      "(14842, 140013) (14842,)\n",
      "(10000, 140013) (10000,) (10000,)\n",
      "(4842, 140013) (4842,) (4842,)\n"
     ]
    }
   ],
   "source": [
    "'''Split into training, test (70:30)'''\n",
    "import numpy as np\n",
    "features = sparse.load_npz('features.npz')\n",
    "labels = np.load('labels.npy')\n",
    "labels2 = np.load('unsupervised_labels.npy')\n",
    "\n",
    "print(features.shape, labels.shape)\n",
    "\n",
    "indices = np.random.permutation(features.shape[0])\n",
    "train_idx, test_idx = indices[:10000], indices[10000:]\n",
    "train_X, test_X = features[train_idx,:], features[test_idx,:]\n",
    "train_y, test_y = labels[train_idx], labels[test_idx]\n",
    "train_y2, test_y2 = labels2[train_idx], labels2[test_idx]\n",
    "print(train_X.shape, train_y.shape, train_y2.shape)\n",
    "print(test_X.shape, test_y.shape, test_y2.shape)"
   ]
  },
  {
   "cell_type": "markdown",
   "metadata": {
    "colab_type": "text",
    "id": "dLZ-CDU21-H2"
   },
   "source": [
    "We then tried different models such as SVM, Logistic Regression, Random Forest, and Neural Network. Among thos, Logistic Regression seems to perform best on the test dataset. We acheive an accuracy of 50%~60%."
   ]
  },
  {
   "cell_type": "code",
   "execution_count": 29,
   "metadata": {
    "colab": {
     "autoexec": {
      "startup": false,
      "wait_interval": 0
     },
     "base_uri": "https://localhost:8080/",
     "height": 86
    },
    "colab_type": "code",
    "executionInfo": {
     "elapsed": 6508,
     "status": "ok",
     "timestamp": 1526072580996,
     "user": {
      "displayName": "Tsai-Szu Hu",
      "photoUrl": "https://lh3.googleusercontent.com/a/default-user=s128",
      "userId": "100294501411221987415"
     },
     "user_tz": 240
    },
    "id": "BAMZlNN75WPf",
    "outputId": "05e4ad8a-ffbe-4502-85ab-82da62a6f594"
   },
   "outputs": [
    {
     "name": "stdout",
     "output_type": "stream",
     "text": [
      "Testing accuracy with indico labels:\n",
      "0.577034283354\n",
      "Testing accuracy with emotion dictionary labels:\n",
      "0.525402726146\n"
     ]
    }
   ],
   "source": [
    "'''Train model 1 with indico labels'''\n",
    "clf = linear_model.LogisticRegression()\n",
    "clf.fit(train_X, train_y)\n",
    "pred_y = clf.predict(test_X)\n",
    "print('Testing accuracy with indico labels:')\n",
    "print((pred_y == test_y).mean())\n",
    "\n",
    "'''Train model 2 with emotion dictionary labels'''\n",
    "clf_un = linear_model.LogisticRegression()\n",
    "clf_un.fit(train_X, train_y2)\n",
    "pred_y_un = clf_un.predict(test_X)\n",
    "print('Testing accuracy with emotion dictionary labels:')\n",
    "print((pred_y_un == test_y2).mean())"
   ]
  },
  {
   "cell_type": "markdown",
   "metadata": {
    "colab_type": "text",
    "id": "KpAS9dqHHHo6"
   },
   "source": [
    "#Recommendation System\n",
    "After training two models, we built a recommendation system to demonstrate our results. The user enters a youtube videoId and we used an ensemble of the two models to predict the emotion. Based on the emotion, video category, and similarity between tags, we recommend 3 related videos.\n",
    "\n",
    "Note that the similarity between tags is compared using SequenceMatcher. The tags are concatenated as strings and the distance between two strings are calculated.\n",
    "\n",
    "Now give it a try! See how our model perform!"
   ]
  },
  {
   "cell_type": "code",
   "execution_count": 31,
   "metadata": {
    "colab": {
     "autoexec": {
      "startup": false,
      "wait_interval": 0
     },
     "base_uri": "https://localhost:8080/",
     "height": 512
    },
    "colab_type": "code",
    "executionInfo": {
     "elapsed": 13563,
     "status": "ok",
     "timestamp": 1526072597297,
     "user": {
      "displayName": "Tsai-Szu Hu",
      "photoUrl": "https://lh3.googleusercontent.com/a/default-user=s128",
      "userId": "100294501411221987415"
     },
     "user_tz": 240
    },
    "id": "xo0LPr_R8qwo",
    "outputId": "c37c11a1-de33-4c36-98e8-505fab5f7eff"
   },
   "outputs": [
    {
     "name": "stdout",
     "output_type": "stream",
     "text": [
      "Please enter a video id (eg. cihB6RKpylw):07EblrIz8vg\n",
      "\n",
      "Kate Middleton Just Left The Hospital With Royal Baby Number 3 | TIME\n",
      "The predicted emotion is: joy (category = News & Politics)\n",
      "\n",
      "The top 3 recommended video with similar emotion & category are:\n",
      "\n",
      "Sperm Donor Meets His 19 Children All Together\n",
      "Which country does the most good for the world? | Simon Anholt\n",
      "Stop and Hear the Music\n",
      "\n"
     ]
    },
    {
     "data": {
      "image/jpeg": "[encoded data removed]",
      "text/html": [
       "\n",
       "        <iframe\n",
       "            width=\"400\"\n",
       "            height=\"300\"\n",
       "            src=\"https://www.youtube.com/embed/0H3MirHyX2w\"\n",
       "            frameborder=\"0\"\n",
       "            allowfullscreen\n",
       "        ></iframe>\n",
       "        "
      ],
      "text/plain": [
       "<IPython.lib.display.YouTubeVideo at 0x1a3466f128>"
      ]
     },
     "execution_count": 31,
     "metadata": {},
     "output_type": "execute_result"
    }
   ],
   "source": [
    "'''Interactive Demo'''\n",
    "\n",
    "DEVELOPER_KEY = \"USE_YOUR_OWN_KEY\"\n",
    "YOUTUBE_API_SERVICE_NAME = \"youtube\"\n",
    "YOUTUBE_API_VERSION = \"v3\"\n",
    "\n",
    "def youtube_search_one(videoId, max_results=50, order=\"relevance\", location=None, location_radius=None):\n",
    "\n",
    "    youtube = build(YOUTUBE_API_SERVICE_NAME, YOUTUBE_API_VERSION,developerKey=DEVELOPER_KEY)\n",
    "\n",
    "    response = youtube.videos().list(\n",
    "        part='snippet',\n",
    "        id=videoId).execute()\n",
    "    \n",
    "    tags = response['items'][0]['snippet']['tags']\n",
    "    categoryId = response['items'][0]['snippet']['categoryId'] \n",
    "    description = response['items'][0]['snippet']['description']\n",
    "    description = description.replace('\\n', \" \").replace('\\r', ' ')\n",
    "    title = response['items'][0]['snippet']['title']\n",
    "\n",
    "    # Get comments\n",
    "    try:\n",
    "        response2 = youtube.commentThreads().list(\n",
    "            part=\"snippet\",\n",
    "            videoId=videoId,\n",
    "            textFormat=\"plainText\"\n",
    "            ).execute()\n",
    "        comments = \"\"\n",
    "\n",
    "        i = 0\n",
    "        if response2[\"items\"] != None:\n",
    "            for item in response2[\"items\"]:\n",
    "                i += 1\n",
    "                comment = item[\"snippet\"][\"topLevelComment\"]\n",
    "                text = comment[\"snippet\"][\"textDisplay\"]\n",
    "\n",
    "                comments = comments + text + \":\"\n",
    "                if i == 10:\n",
    "                    break\n",
    "    except(HttpError) as e:\n",
    "        comments = \"\"\n",
    "\n",
    "    return int(categoryId), title, description, comments.replace('\\n', \" \").replace('\\r', ' '), tags\n",
    "\n",
    "  \n",
    "def get_recommends(categoryId, emotion, tags):\n",
    "    tag_str = \" \".join(tags)\n",
    "    df = pd.read_csv('youtube_all_class.csv', delimiter='\\t', error_bad_lines=False, header=0)\n",
    "    result = df[(df['categoryId'] == categoryId) & (df['tags'].apply(lambda x: SequenceMatcher(None,tag_str,str(x)).ratio() > 0.1)) & (df['emotion'] == emotion)].sort_values(by='likeCount', ascending=False)\n",
    "    return result[:3]\n",
    "\n",
    "  \n",
    "def recommendation(clf, clf2):\n",
    "    emotion = {1:'joy', 2:'angry', 3:'fear', 4:'sadness', 5:'surprise'}\n",
    "    categories = {2:'Autos & Vehicles',1:' Film & Animation',10:'Music',15:'Pets & Animals',17:'Sports',18:'Short Movies',19:'Travel & Events',20:'Gaming',21:'Videoblogging',22:'People & Blogs',23:'Comedy',24:'Entertainment',25:'News & Politics',26:'Howto & Style',27:'Education',28:'Science & Technology',29:'Nonprofits & Activism',30:'Movies',31:'Anime/Animation',32:'Action/Adventure',33:'Classics',34:'Comedy',35:'Documentary',36:'Drama',37:'Family',38:'Foreign',39:'Horror',40:'Sci-Fi/Fantasy',41:'Thriller',42:'Shorts',43:'Shows',44:'Trailers'}\n",
    "    videoId = str(input(\"Please enter a video id (eg. cihB6RKpylw):\"))\n",
    "    \n",
    "    categoryId, title, description, comments, tags = youtube_search_one(videoId)\n",
    "    strVideoData = title + \" \" + description + \" \" + comments + \" \".join(tags)\n",
    "    words = splitText(strVideoData)\n",
    "\n",
    "    vocab = np.load('vocab.npy').item()\n",
    "    vectorizer = TfidfVectorizer(vocabulary=vocab)\n",
    "    X = vectorizer.fit_transform([words])\n",
    "    pred_prob = clf.predict_proba(X)\n",
    "    pred_prob2 = clf2.predict_proba(X)\n",
    "    mult = pred_prob * pred_prob2\n",
    "    pred = np.argmax(mult) + 1\n",
    "\n",
    "    recommends = get_recommends(categoryId, pred, tags)\n",
    "    \n",
    "    print()\n",
    "    print(title)\n",
    "    print(\"The predicted emotion is: %s (category = %s)\" % (emotion[pred], categories[categoryId]))\n",
    "    print()\n",
    "    print(\"The top 3 recommended video with similar emotion & category are:\\n\\n\"+ \\\n",
    "          recommends.iloc[0, 1] + \"\\n\" + recommends.iloc[1, 1] + \"\\n\" + recommends.iloc[2, 1] + \"\\n\")\n",
    "\n",
    "    return recommends.iloc[0, 0], recommends.iloc[1, 0], recommends.iloc[2, 0]\n",
    "\n",
    "id1, id2, id3 = recommendation(clf, clf_un)\n",
    "YouTubeVideo(id1)"
   ]
  },
  {
   "cell_type": "markdown",
   "metadata": {
    "colab_type": "text",
    "id": "9KnqbQY0HMap"
   },
   "source": [
    "# Conclusion & Reference"
   ]
  },
  {
   "cell_type": "markdown",
   "metadata": {},
   "source": [
    "In this project, the textual features of user-generated videos on Youtube (i.e. the video title, tag, description, and comments) were collected as data.  Then 2 approaches were used ML(supervised learning) and an emotion dictionary approach (unsupervised learning) to classify to emotion category. We conducted the sentiment analysis to classify the videos.Futhermore, the ML and emotion dictionary approach were combined to form ensemble models for recommendation system.<br>\n",
    "\n",
    "The  accuracies which we got during our sentimental analysis using supervised learning was 57% whereas using unsupervised learning we were able to achieve accuracy of about 52.5%. Since we used 5 categories to predict the emotion, we found that few videos had very close probabilites for more than one emotion. The result shows that it is difficult to sometime differentiate between some emotions like fear and surprise. Here the classification rates attained using the emotion dictionary were unsatisfactory. This prediction accuracy is much better than a random guess which would be of 20% but it could be lower beacuse of multiple reasons like insufficient coverage of terms in the emotion dicitonary. <br>\n",
    "\n",
    "In future, we would like to train our data with more data since here we had 14000 data set. Also, we would like to revaluate the emotion dictionary as NRC emotion lexicon has words mostly researched mostly on age group 25-40 years. We did indeed see that emotion , and not just positive or negative sentiment decides how people perceive video or any literature on the internet.\n",
    "\n",
    "\n",
    "\n",
    "\n",
    "\n",
    "### References: \n",
    "* https://www.nrc-cnrc.gc.ca/eng/rd/ict/emotion_lexicons.html\n",
    "\n",
    "* https://plot.ly/python/bar-charts/\n",
    "\n",
    "* https://github.com/dpstart/youtube-sentiment-analysis/blob/master/sentiment.py\n",
    "\n",
    "* https://docs.getindico.io/en/stable/\n",
    "\n",
    "* https://developers.google.com/youtube/v3/\n",
    "\n",
    "* https://www.sciencedirect.com/journal/decision-support-systems\n",
    "\n",
    "* https://www.nltk.org\n",
    "\n",
    "* http://scikit-learn.org/stable/"
   ]
  }
 ],
 "metadata": {
  "colab": {
   "collapsed_sections": [],
   "default_view": {},
   "name": "15688_Project.ipynb",
   "provenance": [],
   "version": "0.3.2",
   "views": {}
  },
  "kernelspec": {
   "display_name": "Python 3",
   "language": "python",
   "name": "python3"
  },
  "language_info": {
   "codemirror_mode": {
    "name": "ipython",
    "version": 3
   },
   "file_extension": ".py",
   "mimetype": "text/x-python",
   "name": "python",
   "nbconvert_exporter": "python",
   "pygments_lexer": "ipython3",
   "version": "3.6.4"
  }
 },
 "nbformat": 4,
 "nbformat_minor": 1
}
